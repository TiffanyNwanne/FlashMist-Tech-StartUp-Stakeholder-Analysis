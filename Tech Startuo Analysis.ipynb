{
 "cells": [
  {
   "cell_type": "code",
   "execution_count": 28,
   "id": "cdaaabf2-b028-4b08-86ca-94b0eebdb3af",
   "metadata": {},
   "outputs": [],
   "source": [
    "import pandas as pd\n",
    "from scipy.stats import ttest_ind"
   ]
  },
  {
   "cell_type": "code",
   "execution_count": 30,
   "id": "6098d60c-854a-41c6-aeb2-beb54099ba69",
   "metadata": {},
   "outputs": [
    {
     "data": {
      "text/html": [
       "<div>\n",
       "<style scoped>\n",
       "    .dataframe tbody tr th:only-of-type {\n",
       "        vertical-align: middle;\n",
       "    }\n",
       "\n",
       "    .dataframe tbody tr th {\n",
       "        vertical-align: top;\n",
       "    }\n",
       "\n",
       "    .dataframe thead th {\n",
       "        text-align: right;\n",
       "    }\n",
       "</style>\n",
       "<table border=\"1\" class=\"dataframe\">\n",
       "  <thead>\n",
       "    <tr style=\"text-align: right;\">\n",
       "      <th></th>\n",
       "      <th>user_id</th>\n",
       "      <th>ab_group</th>\n",
       "      <th>converted</th>\n",
       "      <th>retention_days</th>\n",
       "      <th>retained</th>\n",
       "      <th>clickstream_path</th>\n",
       "      <th>review_text</th>\n",
       "      <th>sentiment</th>\n",
       "      <th>pipeline_status</th>\n",
       "    </tr>\n",
       "  </thead>\n",
       "  <tbody>\n",
       "    <tr>\n",
       "      <th>0</th>\n",
       "      <td>6c94bddb-6845-402c-8dbb-300adf7e1ab7</td>\n",
       "      <td>A</td>\n",
       "      <td>0</td>\n",
       "      <td>14</td>\n",
       "      <td>1</td>\n",
       "      <td>Dashboard &gt; Settings &gt; Dashboard &gt; Logout &gt; Da...</td>\n",
       "      <td>Too slow.</td>\n",
       "      <td>negative</td>\n",
       "      <td>Success</td>\n",
       "    </tr>\n",
       "    <tr>\n",
       "      <th>1</th>\n",
       "      <td>ba2f7e58-7429-4e7e-a1de-42e86c3ece75</td>\n",
       "      <td>B</td>\n",
       "      <td>1</td>\n",
       "      <td>7</td>\n",
       "      <td>1</td>\n",
       "      <td>Logout &gt; TaskCreate &gt; TaskCreate &gt; Logout &gt; Lo...</td>\n",
       "      <td>Very intuitive</td>\n",
       "      <td>positive</td>\n",
       "      <td>Success</td>\n",
       "    </tr>\n",
       "    <tr>\n",
       "      <th>2</th>\n",
       "      <td>852a7786-5698-496a-9408-5aa33edbc6a2</td>\n",
       "      <td>B</td>\n",
       "      <td>0</td>\n",
       "      <td>9</td>\n",
       "      <td>1</td>\n",
       "      <td>FileUpload &gt; Homepage &gt; FileUpload &gt; FileUploa...</td>\n",
       "      <td>Needs improvement</td>\n",
       "      <td>negative</td>\n",
       "      <td>Success</td>\n",
       "    </tr>\n",
       "    <tr>\n",
       "      <th>3</th>\n",
       "      <td>a673553b-58da-47d6-98f9-b612a0990737</td>\n",
       "      <td>B</td>\n",
       "      <td>0</td>\n",
       "      <td>5</td>\n",
       "      <td>0</td>\n",
       "      <td>TaskCreate &gt; TaskCreate &gt; FileUpload &gt; Dashboa...</td>\n",
       "      <td>App crashes often.</td>\n",
       "      <td>negative</td>\n",
       "      <td>Success</td>\n",
       "    </tr>\n",
       "    <tr>\n",
       "      <th>4</th>\n",
       "      <td>a8ea1a99-75b2-4a6e-8a13-2d5859101102</td>\n",
       "      <td>A</td>\n",
       "      <td>0</td>\n",
       "      <td>9</td>\n",
       "      <td>1</td>\n",
       "      <td>Homepage &gt; Settings &gt; Dashboard &gt; Homepage &gt; F...</td>\n",
       "      <td>Too slow.</td>\n",
       "      <td>negative</td>\n",
       "      <td>Success</td>\n",
       "    </tr>\n",
       "  </tbody>\n",
       "</table>\n",
       "</div>"
      ],
      "text/plain": [
       "                                user_id ab_group  converted  retention_days  \\\n",
       "0  6c94bddb-6845-402c-8dbb-300adf7e1ab7        A          0              14   \n",
       "1  ba2f7e58-7429-4e7e-a1de-42e86c3ece75        B          1               7   \n",
       "2  852a7786-5698-496a-9408-5aa33edbc6a2        B          0               9   \n",
       "3  a673553b-58da-47d6-98f9-b612a0990737        B          0               5   \n",
       "4  a8ea1a99-75b2-4a6e-8a13-2d5859101102        A          0               9   \n",
       "\n",
       "   retained                                   clickstream_path  \\\n",
       "0         1  Dashboard > Settings > Dashboard > Logout > Da...   \n",
       "1         1  Logout > TaskCreate > TaskCreate > Logout > Lo...   \n",
       "2         1  FileUpload > Homepage > FileUpload > FileUploa...   \n",
       "3         0  TaskCreate > TaskCreate > FileUpload > Dashboa...   \n",
       "4         1  Homepage > Settings > Dashboard > Homepage > F...   \n",
       "\n",
       "          review_text sentiment pipeline_status  \n",
       "0           Too slow.  negative         Success  \n",
       "1      Very intuitive  positive         Success  \n",
       "2   Needs improvement  negative         Success  \n",
       "3  App crashes often.  negative         Success  \n",
       "4           Too slow.  negative         Success  "
      ]
     },
     "execution_count": 30,
     "metadata": {},
     "output_type": "execute_result"
    }
   ],
   "source": [
    "# Load dataset\n",
    "df = pd.read_csv('flashmist_data.csv')\n",
    "\n",
    "# Display the first 5 rows\n",
    "df.head()"
   ]
  },
  {
   "cell_type": "markdown",
   "id": "1d7e7798-6b3b-43a8-82d2-11d3819a8772",
   "metadata": {},
   "source": [
    "### A/B Testing for Product Feature"
   ]
  },
  {
   "cell_type": "code",
   "execution_count": 33,
   "id": "0fe654e9-f067-4a4c-9850-71151c98e66a",
   "metadata": {},
   "outputs": [
    {
     "data": {
      "text/html": [
       "<div>\n",
       "<style scoped>\n",
       "    .dataframe tbody tr th:only-of-type {\n",
       "        vertical-align: middle;\n",
       "    }\n",
       "\n",
       "    .dataframe tbody tr th {\n",
       "        vertical-align: top;\n",
       "    }\n",
       "\n",
       "    .dataframe thead tr th {\n",
       "        text-align: left;\n",
       "    }\n",
       "\n",
       "    .dataframe thead tr:last-of-type th {\n",
       "        text-align: right;\n",
       "    }\n",
       "</style>\n",
       "<table border=\"1\" class=\"dataframe\">\n",
       "  <thead>\n",
       "    <tr>\n",
       "      <th></th>\n",
       "      <th colspan=\"2\" halign=\"left\">converted</th>\n",
       "    </tr>\n",
       "    <tr>\n",
       "      <th></th>\n",
       "      <th>mean</th>\n",
       "      <th>count</th>\n",
       "    </tr>\n",
       "    <tr>\n",
       "      <th>ab_group</th>\n",
       "      <th></th>\n",
       "      <th></th>\n",
       "    </tr>\n",
       "  </thead>\n",
       "  <tbody>\n",
       "    <tr>\n",
       "      <th>A</th>\n",
       "      <td>0.179100</td>\n",
       "      <td>25053</td>\n",
       "    </tr>\n",
       "    <tr>\n",
       "      <th>B</th>\n",
       "      <td>0.220988</td>\n",
       "      <td>24947</td>\n",
       "    </tr>\n",
       "  </tbody>\n",
       "</table>\n",
       "</div>"
      ],
      "text/plain": [
       "         converted       \n",
       "              mean  count\n",
       "ab_group                 \n",
       "A         0.179100  25053\n",
       "B         0.220988  24947"
      ]
     },
     "execution_count": 33,
     "metadata": {},
     "output_type": "execute_result"
    }
   ],
   "source": [
    "# Data Exploration \n",
    "# -- Understand base conversion rate per group and check if group sizes were similar for clean A/B test--\n",
    "df[['ab_group', 'converted']].groupby('ab_group').agg(['mean', 'count'])"
   ]
  },
  {
   "cell_type": "code",
   "execution_count": 35,
   "id": "27d96794-cc4a-43f5-860e-3ed12fbe8bf6",
   "metadata": {},
   "outputs": [],
   "source": [
    "# Data Cleaning\n",
    "# -- Ensure only valid A or B groups exist and removed missing/null converted values--\n",
    "df = df[df['ab_group'].isin(['A', 'B'])]\n",
    "df = df.dropna(subset=['converted'])\n",
    "\n",
    "# -- Ensure 'converted' column is numeric --\n",
    "df['converted'] = pd.to_numeric(df['converted'], errors='coerce')\n",
    "\n",
    "# --Drop any NaNs (important to prevent errors in t-test)--\n",
    "df_clean = df.dropna(subset=['ab_group', 'converted'])"
   ]
  },
  {
   "cell_type": "code",
   "execution_count": 37,
   "id": "59779318-b0e1-4e61-bc33-1f045db029a7",
   "metadata": {},
   "outputs": [
    {
     "name": "stdout",
     "output_type": "stream",
     "text": [
      "ab_group\n",
      "A    0.179100\n",
      "B    0.220988\n",
      "Name: converted, dtype: float64\n"
     ]
    }
   ],
   "source": [
    "# Q1: Which version leads to better conversion?\n",
    "conversion_rates = df.groupby('ab_group')['converted'].mean()\n",
    "print (conversion_rates)"
   ]
  },
  {
   "cell_type": "code",
   "execution_count": 39,
   "id": "9d4fe2fa-0243-445c-91e0-24baa79da5f7",
   "metadata": {},
   "outputs": [
    {
     "name": "stdout",
     "output_type": "stream",
     "text": [
      "T-statistic: -11.7220\n",
      "P-value: 0.0000\n",
      "Result is statistically significant: conversion rates differ.\n"
     ]
    }
   ],
   "source": [
    "# Q2: Are the observed differences statistically significant?\n",
    "# --Extract the groups--\n",
    "group_a = df_clean[df_clean['ab_group'] == 'A']['converted']\n",
    "group_b = df_clean[df_clean['ab_group'] == 'B']['converted']\n",
    "\n",
    "# --Run the t-test--\n",
    "t_stat, p_value = ttest_ind(group_a, group_b, equal_var=False)  # Welch’s t-test\n",
    "\n",
    "# --Print results--\n",
    "print(f\"T-statistic: {t_stat:.4f}\")\n",
    "print(f\"P-value: {p_value:.4f}\")\n",
    "if p_value < 0.05:\n",
    "    print(\"Result is statistically significant: conversion rates differ.\")\n",
    "else:\n",
    "    print(\"No significant difference in conversion rates between A and B.\")"
   ]
  },
  {
   "cell_type": "code",
   "execution_count": 41,
   "id": "6fcabe1e-c95b-4fd1-98ca-248ec380cf00",
   "metadata": {},
   "outputs": [
    {
     "data": {
      "text/html": [
       "<div>\n",
       "<style scoped>\n",
       "    .dataframe tbody tr th:only-of-type {\n",
       "        vertical-align: middle;\n",
       "    }\n",
       "\n",
       "    .dataframe tbody tr th {\n",
       "        vertical-align: top;\n",
       "    }\n",
       "\n",
       "    .dataframe thead th {\n",
       "        text-align: right;\n",
       "    }\n",
       "</style>\n",
       "<table border=\"1\" class=\"dataframe\">\n",
       "  <thead>\n",
       "    <tr style=\"text-align: right;\">\n",
       "      <th>retained</th>\n",
       "      <th>0</th>\n",
       "      <th>1</th>\n",
       "    </tr>\n",
       "    <tr>\n",
       "      <th>ab_group</th>\n",
       "      <th></th>\n",
       "      <th></th>\n",
       "    </tr>\n",
       "  </thead>\n",
       "  <tbody>\n",
       "    <tr>\n",
       "      <th>A</th>\n",
       "      <td>0.172435</td>\n",
       "      <td>0.180089</td>\n",
       "    </tr>\n",
       "    <tr>\n",
       "      <th>B</th>\n",
       "      <td>0.222570</td>\n",
       "      <td>0.220756</td>\n",
       "    </tr>\n",
       "  </tbody>\n",
       "</table>\n",
       "</div>"
      ],
      "text/plain": [
       "retained         0         1\n",
       "ab_group                    \n",
       "A         0.172435  0.180089\n",
       "B         0.222570  0.220756"
      ]
     },
     "execution_count": 41,
     "metadata": {},
     "output_type": "execute_result"
    }
   ],
   "source": [
    "# Q3: What user segments respond best?\n",
    "df.groupby(['ab_group', 'retained'])['converted'].mean().unstack()"
   ]
  },
  {
   "cell_type": "markdown",
   "id": "10c8e658-f4d3-4ec5-b6c2-bea2283f458b",
   "metadata": {},
   "source": [
    "### User Retention Analysis"
   ]
  },
  {
   "cell_type": "code",
   "execution_count": 46,
   "id": "4cc78719-94ef-4964-9eb2-a68dacc783d1",
   "metadata": {},
   "outputs": [
    {
     "data": {
      "text/plain": [
       "retained\n",
       "1    0.8713\n",
       "0    0.1287\n",
       "Name: proportion, dtype: float64"
      ]
     },
     "execution_count": 46,
     "metadata": {},
     "output_type": "execute_result"
    }
   ],
   "source": [
    "# Data Exploration \n",
    "df['retention_days'].describe()\n",
    "df['retained'].value_counts(normalize=True)"
   ]
  },
  {
   "cell_type": "code",
   "execution_count": 48,
   "id": "fcdeb32e-b8af-4cca-a97b-b7f424c9961a",
   "metadata": {},
   "outputs": [],
   "source": [
    "# Data Cleaning\n",
    "df = df[df['retention_days'] <= 30]"
   ]
  },
  {
   "cell_type": "code",
   "execution_count": 50,
   "id": "eebf652f-8810-425e-bbc2-085371e0f3cf",
   "metadata": {},
   "outputs": [
    {
     "data": {
      "text/plain": [
       "<Axes: ylabel='Frequency'>"
      ]
     },
     "execution_count": 50,
     "metadata": {},
     "output_type": "execute_result"
    },
    {
     "data": {
      "image/png": "[encoded data removed]",
      "text/plain": [
       "<Figure size 640x480 with 1 Axes>"
      ]
     },
     "metadata": {},
     "output_type": "display_data"
    }
   ],
   "source": [
    "# Q1: Key drop-off points?\n",
    "df['retention_days'].plot.hist(bins=30)"
   ]
  },
  {
   "cell_type": "code",
   "execution_count": 56,
   "id": "87d6a9bc-6e08-47b6-8882-703c8ee7d784",
   "metadata": {},
   "outputs": [
    {
     "name": "stdout",
     "output_type": "stream",
     "text": [
      "  (0, 0)\t5\n",
      "  (0, 4)\t2\n",
      "  (0, 3)\t2\n",
      "  (0, 5)\t1\n",
      "  (1, 0)\t2\n",
      "  (1, 3)\t3\n",
      "  (1, 5)\t3\n",
      "  (1, 1)\t1\n",
      "  (1, 2)\t1\n",
      "  (2, 1)\t5\n",
      "  (2, 2)\t2\n",
      "  (3, 0)\t1\n",
      "  (3, 4)\t3\n",
      "  (3, 5)\t4\n",
      "  (3, 1)\t2\n",
      "  (4, 0)\t2\n",
      "  (4, 4)\t1\n",
      "  (4, 1)\t2\n",
      "  (4, 2)\t3\n",
      "  (5, 0)\t2\n",
      "  (5, 3)\t1\n",
      "  (5, 5)\t1\n",
      "  (5, 1)\t2\n",
      "  (5, 2)\t2\n",
      "  (6, 0)\t2\n",
      "  :\t:\n",
      "  (49993, 1)\t1\n",
      "  (49993, 2)\t2\n",
      "  (49994, 0)\t2\n",
      "  (49994, 3)\t3\n",
      "  (49994, 2)\t2\n",
      "  (49995, 0)\t1\n",
      "  (49995, 4)\t1\n",
      "  (49995, 3)\t2\n",
      "  (49995, 5)\t3\n",
      "  (49995, 1)\t3\n",
      "  (49996, 3)\t1\n",
      "  (49996, 5)\t2\n",
      "  (49996, 1)\t3\n",
      "  (49997, 0)\t1\n",
      "  (49997, 4)\t1\n",
      "  (49997, 3)\t2\n",
      "  (49997, 5)\t1\n",
      "  (49997, 1)\t1\n",
      "  (49998, 0)\t2\n",
      "  (49998, 4)\t3\n",
      "  (49998, 5)\t2\n",
      "  (49998, 1)\t2\n",
      "  (49998, 2)\t1\n",
      "  (49999, 0)\t2\n",
      "  (49999, 1)\t1\n"
     ]
    }
   ],
   "source": [
    "# Q2: Product usage vs. retention\n",
    "from sklearn.feature_extraction.text import CountVectorizer\n",
    "\n",
    "vectorizer = CountVectorizer()\n",
    "click_matrix = vectorizer.fit_transform(df['clickstream_path'])\n",
    "\n",
    "print (click_matrix)\n",
    "\n",
    "# Compare average frequency of each page between retained vs. non-retained"
   ]
  },
  {
   "cell_type": "markdown",
   "id": "40e30074-cdf7-49bc-b52e-de0b67a85aa0",
   "metadata": {},
   "source": [
    "### Sentiment Analysis on Product Reviews"
   ]
  },
  {
   "cell_type": "code",
   "execution_count": 65,
   "id": "50d2af89-99e7-4acc-979a-fea8a6edf4ac",
   "metadata": {},
   "outputs": [
    {
     "data": {
      "text/plain": [
       "1044       Amazing support\n",
       "30210    Needs improvement\n",
       "530        Amazing support\n",
       "6923     Needs improvement\n",
       "40210      Amazing support\n",
       "Name: review_text, dtype: object"
      ]
     },
     "execution_count": 65,
     "metadata": {},
     "output_type": "execute_result"
    }
   ],
   "source": [
    "# Data Exploration\n",
    "df['sentiment'].value_counts()\n",
    "df['review_text'].sample(5)"
   ]
  },
  {
   "cell_type": "code",
   "execution_count": 67,
   "id": "de59a78e-0b20-41a1-84fc-bb804e9ad4b2",
   "metadata": {},
   "outputs": [],
   "source": [
    "# Data Cleaning\n",
    "df = df[df['review_text'].notnull()]"
   ]
  },
  {
   "cell_type": "code",
   "execution_count": 69,
   "id": "41671d29-7218-4757-9e52-3447ed4d3e02",
   "metadata": {},
   "outputs": [
    {
     "data": {
      "text/plain": [
       "sentiment\n",
       "positive    0.50084\n",
       "negative    0.49916\n",
       "Name: proportion, dtype: float64"
      ]
     },
     "execution_count": 69,
     "metadata": {},
     "output_type": "execute_result"
    }
   ],
   "source": [
    "# Q1: Prevailing sentiments?\n",
    "df['sentiment'].value_counts(normalize=True)"
   ]
  },
  {
   "cell_type": "markdown",
   "id": "beaec1b6-e554-448f-88bb-c906d1ecb9fb",
   "metadata": {},
   "source": [
    "### Clickstream Analysis"
   ]
  },
  {
   "cell_type": "code",
   "execution_count": 78,
   "id": "74d72a22-691a-4940-bc1c-53165eba6f31",
   "metadata": {},
   "outputs": [
    {
     "data": {
      "text/plain": [
       "29213                    TaskCreate > Homepage > Dashboard\n",
       "10588                   FileUpload > TaskCreate > Homepage\n",
       "47272            Homepage > Logout > Dashboard > Dashboard\n",
       "29701    Settings > Settings > Logout > Dashboard > Tas...\n",
       "6070     Dashboard > Settings > Homepage > TaskCreate >...\n",
       "Name: clickstream_path, dtype: object"
      ]
     },
     "execution_count": 78,
     "metadata": {},
     "output_type": "execute_result"
    }
   ],
   "source": [
    "# Data Exploration\n",
    "df['clickstream_path'].sample(5)"
   ]
  },
  {
   "cell_type": "code",
   "execution_count": 80,
   "id": "2c03be3f-b7cb-4df8-b1e5-2a1ceed17654",
   "metadata": {},
   "outputs": [],
   "source": [
    "# Data Cleaning\n",
    "df['clickstream_list'] = df['clickstream_path'].str.split(' > ')"
   ]
  },
  {
   "cell_type": "code",
   "execution_count": 82,
   "id": "acc88e93-1632-439e-b877-5414981c7938",
   "metadata": {},
   "outputs": [
    {
     "data": {
      "text/plain": [
       "[(('FileUpload', 'Dashboard'), 7776),\n",
       " (('FileUpload', 'Homepage'), 7756),\n",
       " (('Dashboard', 'FileUpload'), 7752),\n",
       " (('Dashboard', 'Settings'), 7751),\n",
       " (('Settings', 'Logout'), 7747),\n",
       " (('TaskCreate', 'Logout'), 7737),\n",
       " (('Homepage', 'Settings'), 7725),\n",
       " (('Logout', 'Logout'), 7710),\n",
       " (('Logout', 'FileUpload'), 7696),\n",
       " (('TaskCreate', 'Homepage'), 7691)]"
      ]
     },
     "execution_count": 82,
     "metadata": {},
     "output_type": "execute_result"
    }
   ],
   "source": [
    "# Q1: Navigation through key workflows\n",
    "# Extract path frequency or key transitions\n",
    "from collections import Counter\n",
    "transitions = []\n",
    "\n",
    "for path in df['clickstream_list']:\n",
    "    transitions += zip(path, path[1:])\n",
    "\n",
    "Counter(transitions).most_common(10)"
   ]
  },
  {
   "cell_type": "code",
   "execution_count": 84,
   "id": "83a6265b-4fae-436a-abde-8999f6904503",
   "metadata": {},
   "outputs": [],
   "source": [
    "# Q2: Bottlenecks or loops\n",
    "df['has_loop'] = df['clickstream_list'].apply(lambda x: len(set(x)) < len(x))"
   ]
  },
  {
   "cell_type": "code",
   "execution_count": 86,
   "id": "39c44241-fa2f-442b-9d08-1b5fdcbf6887",
   "metadata": {},
   "outputs": [],
   "source": [
    "# Q3: Clickstream vs. churn\n",
    "# Churn if not retained\n",
    "df['churned'] = 1 - df['retained']\n",
    "\n",
    "# Analyze avg. steps or last page before churn"
   ]
  },
  {
   "cell_type": "code",
   "execution_count": 88,
   "id": "ab592f12-96f8-4244-a829-d7d74c13c9e9",
   "metadata": {},
   "outputs": [],
   "source": [
    "df.to_csv('cleaned_flashmist.csv', index=False)"
   ]
  }
 ],
 "metadata": {
  "kernelspec": {
   "display_name": "Python [conda env:base] *",
   "language": "python",
   "name": "conda-base-py"
  },
  "language_info": {
   "codemirror_mode": {
    "name": "ipython",
    "version": 3
   },
   "file_extension": ".py",
   "mimetype": "text/x-python",
   "name": "python",
   "nbconvert_exporter": "python",
   "pygments_lexer": "ipython3",
   "version": "3.12.4"
  }
 },
 "nbformat": 4,
 "nbformat_minor": 5
}
